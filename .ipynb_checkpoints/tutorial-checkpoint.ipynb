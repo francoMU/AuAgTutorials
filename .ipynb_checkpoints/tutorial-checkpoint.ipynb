{
 "cells": [
  {
   "cell_type": "markdown",
   "id": "d5a0627a-2726-410e-b78f-1af710cd515c",
   "metadata": {},
   "source": [
    "# Hands-on Tutorial V\n",
    "\n",
    "## Introduction to thermal properties with GreenALM\n"
   ]
  },
  {
   "cell_type": "code",
   "execution_count": 15,
   "id": "00202e81-a5d0-4ee5-a896-1f9ca908212b",
   "metadata": {},
   "outputs": [
    {
     "name": "stdout",
     "output_type": "stream",
     "text": [
      "Loading of modules was successful!\n"
     ]
    }
   ],
   "source": [
    "# add utils libary\n",
    "import sys\n",
    "from pathlib import Path\n",
    "\n",
    "file = Path().cwd()\n",
    "if file not in sys.path:\n",
    "    sys.path.append(file)\n",
    "\n",
    "from typing import Dict, Sequence\n",
    "from pprint import pprint, pformat    \n",
    "    \n",
    "# Load with magic commands\n",
    "%matplotlib inline\n",
    "import matplotlib.pyplot as plt\n",
    "plt.rcParams[\"figure.figsize\"] = (10,6)\n",
    "\n",
    "import numpy as np\n",
    "\n",
    "from pymatgen import Structure\n",
    "from pymatgen.symmetry.analyzer import SpacegroupAnalyzer\n",
    "\n",
    "from thermal_exp.core.eos import EosFactory\n",
    "from thermal_exp.core.quasiharmonic import QuasiharmonicApprox\n",
    "\n",
    "from gfalm.notebook.session import ParallelGreenAlmSession\n",
    "from gfalm.notebook.session import init_client\n",
    "\n",
    "from gfalm_utils.adapter import PymatgenStructureAdapter\n",
    "from gfalm_utils.utils import change_concentrations\n",
    "\n",
    "client = init_client('mpi')\n",
    "\n",
    "print(\"Loading of modules was successful!\")"
   ]
  },
  {
   "cell_type": "markdown",
   "id": "c5d01fc0-e912-4cca-b6e7-8c9870da5936",
   "metadata": {},
   "source": [
    "### 1. Thermal expansion of Gold"
   ]
  },
  {
   "cell_type": "code",
   "execution_count": 16,
   "id": "fe3f2a98-d440-44af-9c98-43cf94d0f12f",
   "metadata": {},
   "outputs": [],
   "source": [
    "# Create pymatgen structure\n",
    "structure = Structure(\n",
    "    lattice=[[0.5, 0.5, 0.0], [0.0, 0.5, 0.5], [0.5, 0.0, 0.5]],\n",
    "    species=['Au'],\n",
    "    coords=[[0.0, 0.0, 0.0]],\n",
    ")"
   ]
  },
  {
   "cell_type": "code",
   "execution_count": 17,
   "id": "45f8d410-d517-47b1-912f-e406c32c5f7a",
   "metadata": {},
   "outputs": [
    {
     "name": "stderr",
     "output_type": "stream",
     "text": [
      "Calculating for volume: 14.000000 ang^3          \n",
      "Free energy: -38075.340066                                                           \n",
      "Calculating for volume: 14.714286 ang^3                                         \n",
      "Free energy: -38075.353846                                                        \n",
      "Calculating for volume: 15.428571 ang^3                                      \n",
      "Free energy: -38075.361836                                                           \n",
      "Calculating for volume: 16.142857 ang^3                                         \n",
      "Free energy: -38075.365437                                                           \n",
      "Calculating for volume: 16.857143 ang^3                                         \n",
      "Free energy: -38075.365750                                                           \n",
      "Calculating for volume: 17.571429 ang^3                                         \n",
      "Free energy: -38075.363655                                                          \n",
      "Calculating for volume: 18.285714 ang^3                                        \n",
      "Free energy: -38075.359743                                                            \n",
      "Calculating for volume: 19.000000 ang^3                                          \n",
      "Free energy: -38075.354578                                                           \n",
      "--- Done: 1 iteration [00:01,  1.00s/ iteration, E_err=1.96e-9, chd_err=2.77e-8]"
     ]
    },
    {
     "name": "stdout",
     "output_type": "stream",
     "text": [
      "Calculations are ready!\n"
     ]
    },
    {
     "name": "stderr",
     "output_type": "stream",
     "text": [
      "\n"
     ]
    }
   ],
   "source": [
    "# Number of evaluation points\n",
    "points = 8\n",
    "\n",
    "# Set up the range for the calculations\n",
    "volumes = np.linspace(14, 19, points)\n",
    "\n",
    "# Temperature\n",
    "temperature = 300\n",
    "\n",
    "\n",
    "\n",
    "# Define an list for the free energies\n",
    "free_energies = []\n",
    "\n",
    "with ParallelGreenAlmSession(client, work_dir=\"workdir\") as session:\n",
    "    for idx, volume in enumerate(volumes):\n",
    "\n",
    "        session.reset_pbar()\n",
    "        session.write(f\"Calculating for volume: {volume:.6f} ang^3\", file=sys.stderr)\n",
    "\n",
    "        base_input_params = session.read_input_file(\"input/base.in\")\n",
    "        result = session.run_main(\n",
    "            PymatgenStructureAdapter(\n",
    "                structure, base_input_params, volume=volume, name=f\"au-{volume:.6f}\"\n",
    "            )\n",
    "        )\n",
    "        energy = result[\"general\"].total_free_energy\n",
    "\n",
    "        session.write(f\"Free energy: {energy:.6f}\", file=sys.stderr)\n",
    "\n",
    "        free_energies.append(energy)\n",
    "        \n",
    "print(\"Calculations are ready!\")"
   ]
  },
  {
   "cell_type": "code",
   "execution_count": 18,
   "id": "321cd57f-d2a6-4b43-b83e-f9496b8798f0",
   "metadata": {},
   "outputs": [
    {
     "name": "stdout",
     "output_type": "stream",
     "text": [
      "16.576934563692667 ang^3\n",
      "16.75369428573297 ang^3\n",
      "4.047511314708073 ang\n",
      "4.061846675893088 ang\n",
      "182.1723569820066 GPa\n"
     ]
    }
   ],
   "source": [
    "eos_base = EosFactory(\"birch_murnaghan\", volumes, free_energies)\n",
    "\n",
    "debye_model = QuasiharmonicApprox(volumes, free_energies, structure)\n",
    "thermal_energies = debye_model.vibrational_free_energies(temperature, volumes)\n",
    "free_energies_total = thermal_energies + free_energies\n",
    "\n",
    "eos = EosFactory(\"birch_murnaghan\", volumes, free_energies_total)\n",
    "\n",
    "def volume_to_lattice_constant(volume: float) -> float:\n",
    "    return (volume * 4)**(1/3)\n",
    "\n",
    "print(eos_base.volume_eq)\n",
    "print(eos.volume_eq)\n",
    "print(volume_to_lattice_constant(eos_base.volume_eq))\n",
    "print(volume_to_lattice_constant(eos.volume_eq))\n",
    "print(eos.bulk_modulus_eq.to(\"GPa\"))"
   ]
  },
  {
   "cell_type": "code",
   "execution_count": 19,
   "id": "9900b88f-bdff-4f01-ae2c-3c2087070c1c",
   "metadata": {},
   "outputs": [
    {
     "data": {
      "image/png": "[encoded data removed]",
      "text/plain": [
       "<Figure size 720x432 with 1 Axes>"
      ]
     },
     "metadata": {
      "needs_background": "light"
     },
     "output_type": "display_data"
    }
   ],
   "source": [
    "### Plotting\n",
    "fig = plt.figure()\n",
    "ax = fig.add_subplot(111)\n",
    "ax.set_xlabel(r\"Volume [$\\AA^3$]\")\n",
    "ax.set_ylabel(\"Energy [Ry]\")\n",
    "ax.grid(b=True, which=\"major\", color=\"grey\", alpha=0.2, linestyle=\"dashdot\", lw=1.0)\n",
    "ax.minorticks_on()\n",
    "ax.grid(b=True, which=\"minor\", color=\"lightgrey\", alpha=0.3, ls=\"-\", lw=0.5)\n",
    "ax.plot(volumes, free_energies_total, \"b+\", label=\"$F(V)+F_{vib}(V)$\", markersize=12)\n",
    "ax.plot(volumes, free_energies, \"rx\", label=\"$F(V)$\", markersize=12)\n",
    "ax.axvline(eos_base.volume_eq, ls=\"--\", color=\"red\")\n",
    "ax.axvline(eos.volume_eq, ls=\"--\", color=\"blue\")\n",
    "ax.legend()\n",
    "fig.tight_layout()\n",
    "###"
   ]
  },
  {
   "cell_type": "code",
   "execution_count": 28,
   "id": "55a33d9b-ed94-45ee-ba8c-f6428fe337a1",
   "metadata": {},
   "outputs": [
    {
     "data": {
      "image/png": "[encoded data removed]",
      "text/plain": [
       "<Figure size 1044x360 with 2 Axes>"
      ]
     },
     "metadata": {
      "needs_background": "light"
     },
     "output_type": "display_data"
    }
   ],
   "source": [
    "\n",
    "# Set up tempertaures to evaluate \n",
    "temperatures = np.geomspace(1, 1000, num=50, endpoint=True)\n",
    "\n",
    "equi_volumes = []\n",
    "\n",
    "for temperature in temperatures:\n",
    "    thermal_energies = debye_model.vibrational_free_energies(temperature, volumes)\n",
    "    free_energies_total = thermal_energies + free_energies\n",
    "    eos = EosFactory(\"birch_murnaghan\", volumes, free_energies_total)\n",
    "    equi_volumes.append(eos.volume_eq)\n",
    "\n",
    "equi_volumes = np.array(equi_volumes)\n",
    "\n",
    "alpha = np.gradient(equi_volumes, temperatures) / (equi_volumes)\n",
    "\n",
    "fig, axes = plt.subplots(ncols=2)\n",
    "fig.set_size_inches(14.5, 5)\n",
    "\n",
    "axes[0].plot(temperatures, alpha, color=\"blue\")\n",
    "axes[1].plot(temperatures, equi_volumes, color=\"red\")\n",
    "\n",
    "axes[0].set_ylabel(r\"$\\alpha$\")\n",
    "axes[1].set_ylabel(r\"Volume [$\\AA^3$]\")\n",
    "\n",
    "\n",
    "for ax in axes:\n",
    "    ax.set_xlabel('Temperature [K]')\n",
    "    ax.grid(b=True, which=\"major\", color=\"grey\", alpha=0.2, linestyle=\"dashdot\", lw=1.0)\n",
    "    ax.minorticks_on()\n",
    "    ax.grid(b=True, which=\"minor\", color=\"lightgrey\", alpha=0.3, ls=\"-\", lw=0.5)\n",
    "    \n",
    "fig.tight_layout()\n",
    "\n"
   ]
  },
  {
   "cell_type": "markdown",
   "id": "4742c3f8-a334-45dc-80b2-49fd3f409c33",
   "metadata": {},
   "source": [
    "### 2. Ag-Au"
   ]
  },
  {
   "cell_type": "code",
   "execution_count": null,
   "id": "ad888731-9cff-4b8b-8855-9c12ccc9ac09",
   "metadata": {},
   "outputs": [],
   "source": [
    "\n",
    "# Define method for calculating the equilibrum volume\n",
    "\n",
    "def calculate_equilibrium_volume(\n",
    "    structure: Structure, volumes: Sequence[float], base_input_params: Dict, session\n",
    ") -> float:\n",
    "    \"\"\"\n",
    "    Calculate the equilibriums volume for the given structure\n",
    "    \"\"\"\n",
    "    energies = []\n",
    "    base_name = \"\"\n",
    "\n",
    "    for comp in structure.species_and_occu:\n",
    "        base_name += \"\".join([f\"{k}{v:.8f}\" for k, v in comp.as_dict().items()])\n",
    "\n",
    "    for vol in volumes:\n",
    "        result = session.run_main(\n",
    "            PymatgenStructureAdapter(\n",
    "                structure,\n",
    "                base_input_params,\n",
    "                volume=vol,\n",
    "                name=f\"{base_name}-{vol:.6f}\",\n",
    "            )\n",
    "        )\n",
    "        energies.append(result[\"general\"].total_free_energy)\n",
    "\n",
    "    thermal_energies = QuasiharmonicApprox(\n",
    "        volumes, energies, structure).vibrational_free_energies(300, volumes)\n",
    "\n",
    "    volume = EosFactory(\"birch_murnaghan\", volumes, thermal_energies + energies).volume_eq\n",
    "    return (volume * 4) ** (1/3)\n",
    "\n",
    "\n"
   ]
  },
  {
   "cell_type": "markdown",
   "id": "14278f8d-607f-415e-874b-efad387033fe",
   "metadata": {},
   "source": [
    "#### 2.1. Equilbrium lattice constant\n",
    "\n",
    "#### 2.2. Bulk modulus \n",
    "\n",
    "#### 2.3. Thermal expansion"
   ]
  },
  {
   "cell_type": "markdown",
   "id": "da4fa5ba",
   "metadata": {
    "pycharm": {
     "name": "#%% md\n"
    }
   },
   "source": [
    "Setup the calculation enviroment."
   ]
  },
  {
   "cell_type": "code",
   "execution_count": null,
   "id": "3d9bde8d",
   "metadata": {
    "pycharm": {
     "name": "#%%\n"
    }
   },
   "outputs": [],
   "source": [
    "import sys\n",
    "\n",
    "# Load with magic commands\n",
    "%matplotlib inline\n",
    "import matplotlib.pyplot as plt\n",
    "import numpy as np\n",
    "\n",
    "from pymatgen import Structure\n",
    "from pymatgen.symmetry.analyzer import SpacegroupAnalyzer\n",
    "\n",
    "from thermal_exp.core.eos import EosFactory\n",
    "from thermal_exp.core.quasiharmonic import QuasiharmonicApprox\n",
    "\n",
    "from gfalm.notebook.session import ParallelGreenAlmSession\n",
    "from gfalm.notebook.session import init_client\n",
    "\n",
    "from gfalm_utils.adapter import PymatgenStructureAdapter\n",
    "\n",
    "client = init_client(\"mpi\")"
   ]
  },
  {
   "cell_type": "markdown",
   "id": "e132c020",
   "metadata": {},
   "source": [
    "Run an equation of state calculation for the NiCoCr alloy."
   ]
  },
  {
   "cell_type": "code",
   "execution_count": null,
   "id": "496b26ba-768e-4924-858a-940a37b5ca3a",
   "metadata": {
    "pycharm": {
     "name": "#%%\n"
    }
   },
   "outputs": [],
   "source": [
    "# Experimental lattice constant of NiCoCr at 300K\n",
    "experimental_a = 3.563  # ang\n",
    "\n",
    "# Experimental volume\n",
    "experimental_volume = experimental_a ** 3 / 4"
   ]
  },
  {
   "cell_type": "markdown",
   "id": "8ef68cec-1e4e-4ccf-8f29-025029b182d8",
   "metadata": {},
   "source": [
    "`GreenALM` has also adapters to the widely used [pymatgen](https://pymatgen.org/) library. This library has extensive classes for representations of structures and structure manipulations.\n",
    "\n",
    "\n",
    "```python\n",
    "dlm_mode = 5\n",
    "\n",
    "structure = Structure(\n",
    "    lattice=[[0.5, 0.5, 0.0], [0.0, 0.5, 0.5], [0.5, 0.0, 0.5]],\n",
    "    species=[{\"Ni\": 0.33334, \"Co\": 0.33333, \"Cr\": 0.33333}],\n",
    "    coords=[[0.0, 0.0, 0.0]],\n",
    "    site_properties={\n",
    "        \"mom\": [[2.0, 2.0, 2.0]],\n",
    "        \"lsm_mode\": [[5, 5, 5]],\n",
    "        \"lsf_params\": [[3, 3, 3]],\n",
    "    },\n",
    ")\n",
    "```\n",
    "\n",
    "The site properties are used here to set parameters for the calculation. \n"
   ]
  },
  {
   "cell_type": "code",
   "execution_count": null,
   "id": "6c0ed654-1e3b-4de2-89ec-344976b7c73f",
   "metadata": {
    "pycharm": {
     "name": "#%%\n"
    }
   },
   "outputs": [],
   "source": [
    "dlm_mode = 5\n",
    "\n",
    "# Pymatgen structure\n",
    "structure = Structure(\n",
    "    lattice=[[0.5, 0.5, 0.0], [0.0, 0.5, 0.5], [0.5, 0.0, 0.5]],\n",
    "    species=[{\"Ni\": 0.33334, \"Co\": 0.33333, \"Cr\": 0.33333}],\n",
    "    coords=[[0.0, 0.0, 0.0]],\n",
    "    site_properties={\n",
    "        \"mom\": [[2.0, 2.0, 2.0]],\n",
    "        \"lsm_mode\": [[dlm_mode, dlm_mode, dlm_mode]],\n",
    "        \"lsf_params\": [[3, 3, 3]],\n",
    "    },\n",
    ")\n",
    "\n",
    "finder = SpacegroupAnalyzer(structure)\n",
    "finder.get_space_group_symbol()"
   ]
  },
  {
   "cell_type": "code",
   "execution_count": null,
   "id": "d56f1088-2820-4ea3-83d5-9162a0bb298a",
   "metadata": {
    "pycharm": {
     "name": "#%%\n"
    }
   },
   "outputs": [],
   "source": [
    "# Set up the range for the calculations\n",
    "volumes = np.linspace(9.85, 12.5, 8)\n",
    "\n",
    "### Plotting\n",
    "fig = plt.figure()\n",
    "ax = fig.add_subplot(111)\n",
    "plt.ion()\n",
    "ax.set_xlabel(r\"Volume [$\\AA^3$]\")\n",
    "ax.set_ylabel(\"Energy [Ry]\")\n",
    "ax.set_xlim([np.min(volumes) - 0.1, np.max(volumes[-1]) + 0.1])\n",
    "fig.suptitle(\"EOS of NiCoCr\")\n",
    "fig.tight_layout()\n",
    "ax.grid(b=True, which=\"major\", color=\"grey\", alpha=0.2, linestyle=\"dashdot\", lw=1.0)\n",
    "ax.minorticks_on()\n",
    "ax.grid(b=True, which=\"minor\", color=\"lightgrey\", alpha=0.3, ls=\"-\", lw=0.5)\n",
    "###\n",
    "\n",
    "\n",
    "# Define an list for the free energies\n",
    "free_energies = []\n",
    "\n",
    "with ParallelGreenAlmSession(client, work_dir=\"workdir\") as session:\n",
    "    for idx, volume in enumerate(volumes):\n",
    "\n",
    "        session.reset_pbar()\n",
    "        session.write(f\"Calculating for volume: {volume:.6f} ang^3\", file=sys.stderr)\n",
    "\n",
    "        base_input_params = session.read_input_file(\"input/nicocr_eos.in\")\n",
    "        result = session.run_main(\n",
    "            PymatgenStructureAdapter(\n",
    "                structure, base_input_params, volume=volume, name=f\"nicocr-{volume:.6f}\"\n",
    "            )\n",
    "        )\n",
    "        energy = result[\"general\"].total_free_energy\n",
    "\n",
    "        session.write(f\"Free energy: {energy:.6f}\", file=sys.stderr)\n",
    "\n",
    "        free_energies.append(energy)\n",
    "\n",
    "        ax.plot(volume, energy, \"rx\", label=\"$F(V)$\", markersize=12)\n",
    "\n",
    "\n",
    "eos_base = EosFactory(\"birch_murnaghan\", volumes, free_energies)\n",
    "\n",
    "debye_model = QuasiharmonicApprox(volumes, free_energies, structure)\n",
    "thermal_energies = debye_model.vibrational_free_energies(300, volumes)\n",
    "free_energies_total = thermal_energies + free_energies\n",
    "\n",
    "eos = EosFactory(\"birch_murnaghan\", volumes, free_energies_total)\n",
    "\n",
    "### Plotting\n",
    "ax.plot(volumes, free_energies_total, \"b+\", label=\"$F(V)+F_{vib}(V)$\", markersize=12)\n",
    "ax.axvline(eos_base.volume_eq, ls=\"--\", color=\"red\")\n",
    "ax.axvline(eos.volume_eq, ls=\"--\", color=\"blue\")\n",
    "ax.axvline(experimental_volume, ls=\"--\", color=\"black\", label=\"Exp.\")\n",
    "handles, labels = ax.get_legend_handles_labels()\n",
    "unique_labels, indices = np.unique(labels, return_index=True)\n",
    "ax.legend(np.array(handles)[indices], unique_labels)\n",
    "fig.tight_layout()\n",
    "###"
   ]
  },
  {
   "cell_type": "markdown",
   "id": "3cec2223",
   "metadata": {
    "pycharm": {
     "name": "#%% md\n"
    }
   },
   "source": [
    "Print all variable to the screen."
   ]
  },
  {
   "cell_type": "code",
   "execution_count": null,
   "id": "1d0bbeea",
   "metadata": {
    "pycharm": {
     "name": "#%%\n"
    }
   },
   "outputs": [],
   "source": [
    "# Print all variables\n",
    "print(f\"Equilibrium volume: {eos.volume_eq}\")\n",
    "print(f\"Lattice constants: {np.cbrt(eos.volume_eq * 4)}\")\n",
    "\n",
    "print(\n",
    "    f'Volume: {EosFactory(\"birch_murnaghan\", volumes, free_energies_total).volume_eq}:.4f'\n",
    ")\n",
    "\n",
    "print(f\"Gruneisen: {debye_model.grueneisen_parameter}\")\n",
    "print(f\"Bulk Modulus: {debye_model.bulk_modulus}\")"
   ]
  },
  {
   "cell_type": "markdown",
   "id": "a6417cf8",
   "metadata": {
    "pycharm": {
     "name": "#%% md\n"
    }
   },
   "source": [
    "You can compare now all different outputs of the equation of states."
   ]
  },
  {
   "cell_type": "code",
   "execution_count": null,
   "id": "3af4fb10",
   "metadata": {
    "pycharm": {
     "name": "#%%\n"
    }
   },
   "outputs": [],
   "source": [
    "for eos_type in [\"murnaghan\", \"vinet\", \"morse\"]:\n",
    "    print(\n",
    "        f\"Volume {eos_type}: {EosFactory(eos_type, volumes, free_energies_total).volume_eq}:.4f\"\n",
    "    )"
   ]
  },
  {
   "cell_type": "markdown",
   "id": "c550ca2b",
   "metadata": {
    "pycharm": {
     "name": "#%% md\n"
    }
   },
   "source": [
    "After obtaining now the equilibrium lattice constant, you will have to calculate the magnitude of the\n",
    "Burger's vector."
   ]
  },
  {
   "cell_type": "code",
   "execution_count": null,
   "id": "363114ea",
   "metadata": {
    "pycharm": {
     "name": "#%%\n"
    }
   },
   "outputs": [],
   "source": [
    "# Calculate burgers vector\n",
    "burger_vector = (\n",
    "    np.cbrt(eos.volume_eq * 4) / 2 * np.sqrt(np.sum(np.array([1, 1, 0]) ** 2))\n",
    ")\n",
    "print(f\"Burgers vector: {burger_vector}\")"
   ]
  },
  {
   "cell_type": "markdown",
   "id": "45af04e8",
   "metadata": {
    "pycharm": {
     "name": "#%% md\n"
    },
    "tags": []
   },
   "source": [
    "### 2. Task: Misfit volumes\n",
    "\n",
    "The misfit volume of an element in a given alloy quantifies the size mismatch between the element and the matrix. It reflects the average local atomic environment around\n",
    "the element. The misfit volume of the $n$-type in an $N$-component alloy can be expressed in terms of\n",
    "derivatives of alloy atomic volume with respect to composition. The misfit volume of any type-n atom $\\Delta V_n$\n",
    "can then be calculated as\n",
    "\n",
    "$$\\Delta V_n = \\frac{\\partial V}{\\partial c_n}   -  \\sum_{m=1}^N c_m \\dfrac{\\partial V}{\\partial c_m}$$\n",
    "\n",
    "In order to get now the $\\Delta V_n$, we just need to calculate the derivative of the alloy volume with respect to\n",
    "changes of the composition. This can be obtained by varying concentrations by finite small values and performing a\n",
    "multi-dimensional linear regression to find the coefficients.\n",
    "\n",
    "You will perform now a series of CPA calculations for systems with small deviations of the concentrations from the\n",
    "original alloy and get equilibrium volume for each of them. Practically, we will always vary the concentration of one component\n",
    "while keeping the ratio of the remaining components constant. In order to get stable an accurate results, one would\n",
    "need to perform at least 4 variations per component. For the matter of time we will only consider 2 variations\n",
    "per component. This will lead to a total of 7 equation of state calculations.\n"
   ]
  },
  {
   "cell_type": "markdown",
   "id": "72f256dd",
   "metadata": {
    "pycharm": {
     "name": "#%% md\n"
    }
   },
   "source": [
    "Prepare again the session. `calculate_equilibrium_volume` and `generate_species_concentrations` are helper\n",
    "functions."
   ]
  },
  {
   "cell_type": "code",
   "execution_count": null,
   "id": "bb92a681",
   "metadata": {
    "pycharm": {
     "name": "#%%\n"
    }
   },
   "outputs": [],
   "source": [
    "from typing import Dict, Sequence\n",
    "from pprint import pprint, pformat\n",
    "\n",
    "import numpy as np\n",
    "from pymatgen import Structure\n",
    "\n",
    "from thermal_exp.core.eos import EosFactory\n",
    "from thermal_exp.core.quasiharmonic import QuasiharmonicApprox\n",
    "\n",
    "from gfalm_utils.adapter import PymatgenStructureAdapter\n",
    "from gfalm_utils.utils import change_concentrations\n",
    "\n",
    "\n",
    "def calculate_equilibrium_volume(\n",
    "    structure: Structure, volumes: Sequence[float], base_input_params: Dict, session\n",
    ") -> float:\n",
    "    \"\"\"\n",
    "    Calculate the equilibriums volume for the given structure\n",
    "    \"\"\"\n",
    "    energies = []\n",
    "    base_name = \"\"\n",
    "\n",
    "    for comp in structure.species_and_occu:\n",
    "        base_name += \"\".join([f\"{k}{v:.8f}\" for k, v in comp.as_dict().items()])\n",
    "\n",
    "    for vol in volumes:\n",
    "        result = session.run_main(\n",
    "            PymatgenStructureAdapter(\n",
    "                structure,\n",
    "                base_input_params,\n",
    "                volume=vol,\n",
    "                name=f\"{base_name}-{vol:.6f}\",\n",
    "            )\n",
    "        )\n",
    "        energies.append(result[\"general\"].total_free_energy)\n",
    "\n",
    "    thermal_energies = QuasiharmonicApprox(\n",
    "        volumes, energies, structure, bulk_modulue=165, grueneisen_parameter=2.85\n",
    "    ).vibrational_free_energies(300, volumes)\n",
    "\n",
    "    return EosFactory(\"birch_murnaghan\", volumes, thermal_energies + energies).volume_eq\n",
    "\n",
    "\n",
    "def generate_species_concentrations(species, concentrations, max_diff, steps):\n",
    "    comp = []\n",
    "\n",
    "    comp.append(\n",
    "        {k: v for k, v in zip(species, change_concentrations(concentrations, 0.00, 0))}\n",
    "    )\n",
    "\n",
    "    for index in range(len(species)):\n",
    "        for diff in np.linspace(-max_diff, max_diff, steps):\n",
    "            comp.append(\n",
    "                {\n",
    "                    k: v\n",
    "                    for k, v in zip(\n",
    "                        species, change_concentrations(concentrations, diff, index)\n",
    "                    )\n",
    "                }\n",
    "            )\n",
    "\n",
    "    return comp\n",
    "\n",
    "\n",
    "equil_volumes = []\n",
    "\n",
    "compositions = generate_species_concentrations(\n",
    "    [\"Ni\", \"Co\", \"Cr\"], [0.3334, 0.3333, 0.3333], 0.01, 2\n",
    ")\n",
    "\n",
    "volumes = np.linspace(9.85, 12.5, 8)\n",
    "\n",
    "site_properties = {\n",
    "    \"mom\": [[2.0, 2.0, 2.0]],\n",
    "    \"lsm_mode\": [[5, 5, 5]],\n",
    "    \"lsf_params\": [[3, 3, 3]],\n",
    "}"
   ]
  },
  {
   "cell_type": "markdown",
   "id": "a6be63ed",
   "metadata": {
    "pycharm": {
     "name": "#%% md\n"
    }
   },
   "source": [
    "The first point that will be calculated is the equilibrium volume of the alloy"
   ]
  },
  {
   "cell_type": "code",
   "execution_count": null,
   "id": "711b4c1f",
   "metadata": {
    "pycharm": {
     "name": "#%%\n"
    }
   },
   "outputs": [],
   "source": [
    "with ParallelGreenAlmSession(client, work_dir=\"workdir\") as session:\n",
    "    base_input_params = session.read_input_file(\"input/nicocr.in\")\n",
    "    composition = compositions[0]\n",
    "\n",
    "    session.reset_pbar()\n",
    "    session.write(\"Calculating EOS of composition...\", file=sys.stderr)\n",
    "    session.write(pformat(composition), file=sys.stderr)\n",
    "\n",
    "    volume = calculate_equilibrium_volume(\n",
    "        Structure(\n",
    "            lattice=[[0.5, 0.5, 0.0], [0.0, 0.5, 0.5], [0.5, 0.0, 0.5]],\n",
    "            species=[composition],\n",
    "            coords=[[0.0, 0.0, 0.0]],\n",
    "            site_properties=site_properties,\n",
    "        ),\n",
    "        volumes,\n",
    "        base_input_params,\n",
    "        session,\n",
    "    )\n",
    "\n",
    "    session.write(f\"Volume: {volume:.4f}\", file=sys.stderr)\n",
    "    equil_volumes.append(volume)\n",
    "\n",
    "print(\"Done!!\")"
   ]
  },
  {
   "cell_type": "markdown",
   "id": "06268afc",
   "metadata": {},
   "source": [
    "Next we will calculate the variation of the Ni concentration in our NiCoCr alloy."
   ]
  },
  {
   "cell_type": "code",
   "execution_count": null,
   "id": "f4989ae9",
   "metadata": {
    "pycharm": {
     "name": "#%%\n"
    }
   },
   "outputs": [],
   "source": [
    "with ParallelGreenAlmSession(client, work_dir=\"workdir\") as session:\n",
    "    base_input_params = session.read_input_file(\"input/nicocr.in\")\n",
    "    composition = compositions[1]\n",
    "\n",
    "    session.reset_pbar()\n",
    "    session.write(\"Calculating EOS of composition...\", file=sys.stderr)\n",
    "    session.write(pformat(composition), file=sys.stderr)\n",
    "\n",
    "    volume = calculate_equilibrium_volume(\n",
    "        Structure(\n",
    "            lattice=[[0.5, 0.5, 0.0], [0.0, 0.5, 0.5], [0.5, 0.0, 0.5]],\n",
    "            species=[composition],\n",
    "            coords=[[0.0, 0.0, 0.0]],\n",
    "            site_properties=site_properties,\n",
    "        ),\n",
    "        volumes,\n",
    "        base_input_params,\n",
    "        session,\n",
    "    )\n",
    "\n",
    "    session.write(f\"Volume: {volume:.4f}\", file=sys.stderr)\n",
    "    equil_volumes.append(volume)\n",
    "\n",
    "\n",
    "with ParallelGreenAlmSession(client, work_dir=\"workdir\") as session:\n",
    "    base_input_params = session.read_input_file(\"input/nicocr.in\")\n",
    "    composition = compositions[2]\n",
    "    \n",
    "    session.reset_pbar()\n",
    "    session.write(\"Calculating EOS of composition...\", file=sys.stderr)\n",
    "    session.write(pformat(composition), file=sys.stderr)\n",
    "\n",
    "    volume = calculate_equilibrium_volume(\n",
    "        Structure(\n",
    "            lattice=[[0.5, 0.5, 0.0], [0.0, 0.5, 0.5], [0.5, 0.0, 0.5]],\n",
    "            species=[composition],\n",
    "            coords=[[0.0, 0.0, 0.0]],\n",
    "            site_properties=site_properties,\n",
    "        ),\n",
    "        volumes,\n",
    "        base_input_params,\n",
    "        session,\n",
    "    )\n",
    "\n",
    "    session.write(f\"Volume: {volume:.4f}\", file=sys.stderr)\n",
    "    equil_volumes.append(volume)"
   ]
  },
  {
   "cell_type": "markdown",
   "id": "79363ee0",
   "metadata": {
    "pycharm": {
     "name": "#%% md\n"
    }
   },
   "source": [
    "Next we will calculate the variation of the Co concentration in our NiCoCr alloy."
   ]
  },
  {
   "cell_type": "code",
   "execution_count": null,
   "id": "6050402d",
   "metadata": {
    "pycharm": {
     "name": "#%%\n"
    }
   },
   "outputs": [],
   "source": [
    "with ParallelGreenAlmSession(client, work_dir=\"workdir\") as session:\n",
    "    base_input_params = session.read_input_file(\"input/nicocr.in\")\n",
    "    composition = compositions[3]\n",
    "    \n",
    "    session.reset_pbar()\n",
    "    session.write(\"Calculating EOS of composition...\", file=sys.stderr)\n",
    "    session.write(pformat(composition), file=sys.stderr)\n",
    "\n",
    "    volume = calculate_equilibrium_volume(\n",
    "        Structure(\n",
    "            lattice=[[0.5, 0.5, 0.0], [0.0, 0.5, 0.5], [0.5, 0.0, 0.5]],\n",
    "            species=[composition],\n",
    "            coords=[[0.0, 0.0, 0.0]],\n",
    "            site_properties=site_properties,\n",
    "        ),\n",
    "        volumes,\n",
    "        base_input_params,\n",
    "        session,\n",
    "    )\n",
    "\n",
    "    session.write(f\"Volume: {volume:.4f}\", file=sys.stderr)\n",
    "    equil_volumes.append(volume)\n",
    "\n",
    "with ParallelGreenAlmSession(client, work_dir=\"workdir\") as session:\n",
    "    base_input_params = session.read_input_file(\"input/nicocr.in\")\n",
    "    composition = compositions[4]\n",
    "\n",
    "    session.reset_pbar()\n",
    "    session.write(\"Calculating EOS of composition...\", file=sys.stderr)\n",
    "    session.write(pformat(composition), file=sys.stderr)\n",
    "\n",
    "    volume = calculate_equilibrium_volume(\n",
    "        Structure(\n",
    "            lattice=[[0.5, 0.5, 0.0], [0.0, 0.5, 0.5], [0.5, 0.0, 0.5]],\n",
    "            species=[composition],\n",
    "            coords=[[0.0, 0.0, 0.0]],\n",
    "            site_properties=site_properties,\n",
    "        ),\n",
    "        volumes,\n",
    "        base_input_params,\n",
    "        session,\n",
    "    )\n",
    "\n",
    "    session.write(f\"Volume: {volume:.4f}\", file=sys.stderr)\n",
    "    equil_volumes.append(volume)"
   ]
  },
  {
   "cell_type": "markdown",
   "id": "5c70d69e",
   "metadata": {},
   "source": [
    "Next we will calculate the variation of the Cr concentration in our NiCoCr alloy."
   ]
  },
  {
   "cell_type": "code",
   "execution_count": null,
   "id": "2b1e735e",
   "metadata": {
    "pycharm": {
     "name": "#%%\n"
    }
   },
   "outputs": [],
   "source": [
    "with ParallelGreenAlmSession(client, work_dir=\"workdir\") as session:\n",
    "    base_input_params = session.read_input_file(\"input/nicocr.in\")\n",
    "    composition = compositions[5]\n",
    "\n",
    "    session.reset_pbar()\n",
    "    session.write(\"Calculating EOS of composition...\", file=sys.stderr)\n",
    "    session.write(pformat(composition), file=sys.stderr)\n",
    "\n",
    "    volume = calculate_equilibrium_volume(\n",
    "        Structure(\n",
    "            lattice=[[0.5, 0.5, 0.0], [0.0, 0.5, 0.5], [0.5, 0.0, 0.5]],\n",
    "            species=[composition],\n",
    "            coords=[[0.0, 0.0, 0.0]],\n",
    "            site_properties=site_properties,\n",
    "        ),\n",
    "        volumes,\n",
    "        base_input_params,\n",
    "        session,\n",
    "    )\n",
    "\n",
    "    session.write(f\"Volume: {volume:.4f}\", file=sys.stderr)\n",
    "    equil_volumes.append(volume)\n",
    "\n",
    "with ParallelGreenAlmSession(client, work_dir=\"workdir\") as session:\n",
    "    base_input_params = session.read_input_file(\"input/nicocr.in\")\n",
    "    composition = compositions[6]\n",
    "\n",
    "    session.reset_pbar()\n",
    "    session.write(\"Calculating EOS of composition...\", file=sys.stderr)\n",
    "    session.write(pformat(composition), file=sys.stderr)\n",
    "\n",
    "    volume = calculate_equilibrium_volume(\n",
    "        Structure(\n",
    "            lattice=[[0.5, 0.5, 0.0], [0.0, 0.5, 0.5], [0.5, 0.0, 0.5]],\n",
    "            species=[composition],\n",
    "            coords=[[0.0, 0.0, 0.0]],\n",
    "            site_properties=site_properties,\n",
    "        ),\n",
    "        volumes,\n",
    "        base_input_params,\n",
    "        session,\n",
    "    )\n",
    "\n",
    "    session.write(f\"Volume: {volume:.4f}\", file=sys.stderr)\n",
    "    equil_volumes.append(volume)\n",
    "\n",
    "print(\"Done!!\")"
   ]
  },
  {
   "cell_type": "markdown",
   "id": "c2286003",
   "metadata": {
    "pycharm": {
     "name": "#%% md\n"
    }
   },
   "source": [
    "Extract now the matrix of concentrations."
   ]
  },
  {
   "cell_type": "code",
   "execution_count": null,
   "id": "d7315af9",
   "metadata": {
    "pycharm": {
     "name": "#%%\n"
    }
   },
   "outputs": [],
   "source": [
    "equil_concentrations = np.array([list(v.values()) for v in compositions])"
   ]
  },
  {
   "cell_type": "markdown",
   "id": "a5ff3e17",
   "metadata": {
    "pycharm": {
     "name": "#%% md\n"
    }
   },
   "source": [
    "#### 2.1: Linear regression\n",
    "\n",
    "As first step we have to calculate the derivative of the equilibrium volumes with respect to changes in the volumes.\n",
    "The next step is to perform linear regression in the multi-dimensional space of concentration variables with the\n",
    "connected equilibrium volumes.\n",
    "\n",
    "1. Perform a least square fit on parameters $a_i$ of\n",
    "\n",
    "    $$\n",
    "       V = a_1 + a_2 * c_{Co} + a_3 * c_{Cr}\n",
    "    $$\n",
    "\n",
    "    where we already use the fact that $\\sum_i c_i = 1$.\n",
    "\n",
    "\n",
    "\n",
    "2. Obtain the derivatives of the volume with respect to changes in the concentration\n",
    "    from the fit as\n",
    "\n",
    "   $$\n",
    "      \\dfrac{\\partial V}{\\partial c_m}\n",
    "   $$\n",
    "\n",
    "3. Use this expression in the final formular for the misfit volumes\n",
    "\n",
    "4. Calculate the misfit delta $\\delta$ from misfit volumes\n",
    "\n",
    "    $$\n",
    "        \\delta = \\sqrt( \\sum_n * c_n \\Delta V_n^2  ) / (3 V_{alloy} )\n",
    "    $$\n",
    "\n",
    "Hints:\n",
    "\n",
    "- Solve a linear least-squares problem, means performing the following optimization:\n",
    "\n",
    "     $$ \\min | A * x - b | $$\n",
    "    \n",
    "- Also keep in mind when taking the derivatives, that the equation in point 1 doesn't depend on $c_{Ni}$.\n",
    "\n"
   ]
  },
  {
   "cell_type": "code",
   "execution_count": null,
   "id": "8dd0f40b",
   "metadata": {
    "pycharm": {
     "name": "#%%\n"
    }
   },
   "outputs": [],
   "source": [
    "from scipy.optimize import lsq_linear\n",
    "\n",
    "b = np.array(equil_volumes)\n",
    "ones = np.ones((b.shape[0], 1))\n",
    "A = np.concatenate((ones, np.array(equil_concentrations)[:, 1:]), axis=1)\n",
    "\n",
    "res = lsq_linear(A, b)\n",
    "dVdcm = res.x\n",
    "dVdcm[0] = 0\n",
    "\n",
    "misfit_volumes = dVdcm - np.sum(np.mean(np.array(equil_concentrations), axis=0) @ dVdcm)\n",
    "misfit_delta = np.sum(equil_concentrations[0] * misfit_volumes ** 2) / (\n",
    "    3 * equil_volumes[0]\n",
    ")\n",
    "\n",
    "print(\n",
    "    f\"Misfit volume: \"\n",
    "    + \" \".join(\n",
    "        [f\"{c}: {m:.4f}\" for c, m in zip(compositions[0].keys(), misfit_volumes)]\n",
    "    )\n",
    ")\n",
    "print(f\"Misfit delta: {misfit_delta:.4f}\")"
   ]
  },
  {
   "cell_type": "markdown",
   "id": "f1b8e4e6",
   "metadata": {},
   "source": [
    "Now let's plot our results and see how good the linear fit is.\n"
   ]
  },
  {
   "cell_type": "code",
   "execution_count": null,
   "id": "ec63bf1b",
   "metadata": {
    "pycharm": {
     "name": "#%%\n"
    }
   },
   "outputs": [],
   "source": [
    "fig = plt.figure()\n",
    "ax = plt.axes()\n",
    "\n",
    "z = np.array(equil_volumes)\n",
    "x = np.array(equil_concentrations)[:, 0]\n",
    "y = np.array(equil_concentrations)[:, 1]\n",
    "phi = np.array(equil_concentrations)[:, 2]\n",
    "\n",
    "volumes = np.array(equil_volumes)\n",
    "concentrations = np.array(equil_concentrations)\n",
    "\n",
    "ones = np.ones((volumes.shape[0], 1))\n",
    "A = np.concatenate((ones, concentrations[:, :2]), axis=1)\n",
    "\n",
    "res = lsq_linear(A, volumes)\n",
    "\n",
    "\n",
    "@np.vectorize\n",
    "def hyperplane(x_val, y_val):\n",
    "    return res.x[0] + res.x[1] * x_val + res.x[2] * y_val\n",
    "\n",
    "\n",
    "xx, yy = np.meshgrid(\n",
    "    np.linspace(np.min(x), np.max(x), 20), np.linspace(np.min(y), np.max(y), 20)\n",
    ")\n",
    "\n",
    "ax.plot(x[:3], z[:3], \"1\", color=\"red\", label=\"Ni\", markersize=12)\n",
    "ax.plot(\n",
    "    np.hstack((y[0], y[3:5])),\n",
    "    np.hstack((z[0], z[3:5])),\n",
    "    \"x\",\n",
    "    color=\"blue\",\n",
    "    label=\"Co\",\n",
    "    markersize=12,\n",
    ")\n",
    "ax.plot(\n",
    "    np.hstack((phi[0], phi[5:])),\n",
    "    np.hstack((z[0], z[5:])),\n",
    "    \"+\",\n",
    "    color=\"green\",\n",
    "    label=\"Cr\",\n",
    "    markersize=12,\n",
    ")\n",
    "\n",
    "x_var = np.linspace(np.min(x) - 0.01, np.max(x) + 0.01, 30)\n",
    "y_fixed = (1 - x_var) / 2.0\n",
    "zx_var = hyperplane(x_var, y_fixed)\n",
    "ax.plot(x_var, zx_var, ls=\"--\", color=\"red\", label=\"fit Ni\", lw=1.5, alpha=0.5)\n",
    "\n",
    "y_var = np.linspace(np.min(y) - 0.01, np.max(y) + 0.01, 30)\n",
    "x_fixed = (1 - y_var) / 2.0\n",
    "zy_var = hyperplane(x_fixed, y_var)\n",
    "ax.plot(y_var, zy_var, ls=\"--\", color=\"blue\", label=\"fit Co\", lw=1.5, alpha=0.5)\n",
    "\n",
    "phi_var = np.linspace(np.min(phi) - 0.01, np.max(phi) + 0.01, 30)\n",
    "x_fixed = (1 - phi_var) / 2.0\n",
    "y_fixed = (1 - phi_var) / 2.0\n",
    "zphi_var = hyperplane(x_fixed, y_fixed)\n",
    "ax.plot(phi_var, zphi_var, ls=\"--\", color=\"green\", label=\"fit Cr\", lw=1.5, alpha=0.5)\n",
    "\n",
    "ax.set_ylabel(r\"Volume [$\\AA^3$]\")\n",
    "ax.set_xlabel(r\"Concentration [at.%]\")\n",
    "handles, labels = ax.get_legend_handles_labels()\n",
    "sorted_labels = [\"Ni\", \"fit Ni\", \"Co\", \"fit Co\", \"Cr\", \"fit Cr\"]\n",
    "sorted_handles = [handles[labels.index(l)] for l in sorted_labels]\n",
    "ax.axvline(1.0 / 3.0, ls=\"--\", color=\"black\", lw=1.5)\n",
    "merged_labels = [\"Ni\", \"Co\", \"Cr\"]\n",
    "merged_handles = [\n",
    "    (sorted_handles[0], sorted_handles[1]),\n",
    "    (sorted_handles[2], sorted_handles[3]),\n",
    "    (sorted_handles[4], sorted_handles[5]),\n",
    "]\n",
    "ax.legend(\n",
    "    labels=merged_labels,\n",
    "    handles=merged_handles,\n",
    "    bbox_to_anchor=(0, 1.02, 1, 0.2),\n",
    "    loc=\"lower left\",\n",
    "    mode=\"expand\",\n",
    "    borderaxespad=0,\n",
    "    ncol=3,\n",
    ")\n",
    "ax.set_xlim((y_var[0], y_var[-1]))\n",
    "fig.align_labels()\n",
    "ax.grid(b=True, which=\"major\", color=\"grey\", alpha=0.2, linestyle=\"dashdot\", lw=1.0)\n",
    "ax.minorticks_on()\n",
    "ax.grid(b=True, which=\"minor\", color=\"lightgrey\", alpha=0.3, ls=\"-\", lw=0.5)\n",
    "fig.tight_layout(pad=1.00)\n",
    "fig.canvas.draw()"
   ]
  },
  {
   "cell_type": "markdown",
   "id": "e9cac19c",
   "metadata": {},
   "source": [
    "### 3. Task: Calculate the strength of the NiCoCr alloy and comparison with experiment\n",
    "\n",
    "By combining experimental materials parameters and our calculated misfit parameter, we can predict\n",
    "the initial yield strength of NiCoCr within VC solute strengthening model. The model will give the\n",
    "so called critical resolved shear stress for the given temperature and strain rate. The expressions for\n",
    "the $\\tau_0$, $\\Delta E_b$ and $\\tau(T)$ are provided already. Your task is now to calculate the\n",
    "finite temperture yield strenght of NiCoCr and compare it with the experimental results.\n",
    "\n",
    "Single-crystalline measurement of the strength are rare. Most measurements are carried out on poly-crystalline\n",
    "samples. There will be an additional strengthening contribution due to the grains.\n",
    "It is based on the observation that grain boundaries are insurmountable borders for\n",
    "dislocations and that the number of dislocations within a grain has an effect\n",
    "on how stress builds up in the adjacent grain, which will eventually activate\n",
    " dislocation sources and thus enabling deformation in the neighbouring grain, too. This so called\n",
    " Hall-Petch contribution has to be substracted.\n",
    "\n",
    "We will use a collection literature data and plot the yield strength versus inverse square-root of\n",
    "grain size in NiCoCr (Hall–Petch scaling). From this plot we will extrapolate to infinite grain size which corresponds to\n",
    "single-crystalline yield strength. To get the yield shear stress from our experiment, we will have to divide by the Taylor factor of 3.06 to obtain the\n",
    "uniaxial tensile strength of an untextured fcc polycrystal. The Taylor factor is just an average orientation factor\n",
    "that occurs because slip planes can be differently oriented in the polycrystal.\n"
   ]
  },
  {
   "cell_type": "markdown",
   "id": "99f80e4a",
   "metadata": {
    "pycharm": {
     "name": "#%% md\n"
    }
   },
   "source": [
    "#### 3.1 Task: Predict the strength of NiCoCr\n",
    "\n",
    "Now you will use the expressions form Varvenne-Curtin model to predict the yield stress.\n",
    "\n",
    "Again, here is the expression for the zero-temperature yield strength\n",
    "\n",
    "$$\n",
    "  \\tau_0 = A_{\\tau} \\left( \\frac{\\Gamma}{b^2}              \\right)^{-\\frac{1}{3} }\n",
    "                 \\left( G_V \\frac{1 + \\nu}{1 - \\nu} \\right)^{ \\frac{4}{3} }\n",
    "                 \\delta^{ \\frac{4}{3} }\n",
    "$$"
   ]
  },
  {
   "cell_type": "code",
   "execution_count": null,
   "id": "f2ffb3c0",
   "metadata": {
    "pycharm": {
     "name": "#%%\n"
    }
   },
   "outputs": [],
   "source": [
    "import numpy as np\n",
    "from scipy.constants import Boltzmann as kB"
   ]
  },
  {
   "cell_type": "code",
   "execution_count": null,
   "id": "57c0e269",
   "metadata": {
    "pycharm": {
     "name": "#%%\n"
    }
   },
   "outputs": [],
   "source": [
    "def calculate_tau_yield_zero(a_tau, gamma, shear, poisson, burger_vector, delta):\n",
    "    \"\"\"\n",
    "    This function calculates the zero-temperature yield shear stress\n",
    "    \"\"\"\n",
    "    return (\n",
    "        a_tau\n",
    "        * (gamma / burger_vector ** 2) ** (-1 / 3)\n",
    "        * (shear * (1 + poisson) / (1 - poisson)) ** (4 / 3)\n",
    "        * delta ** (4 / 3)\n",
    "    )"
   ]
  },
  {
   "cell_type": "markdown",
   "id": "6aa9f63b",
   "metadata": {
    "pycharm": {
     "name": "#%% md\n"
    }
   },
   "source": [
    "Energy barrier for the thermally activate flow of the dislocation follow as\n",
    "\n",
    "$$\n",
    "  E_b = A_{E}   \\left( \\frac{\\Gamma}{b^2}          \\right)^{\\frac{1}{3} }\n",
    "                 b^3\n",
    "                 \\left( G_V \\frac{1 + \\nu}{1 - \\nu} \\right)^{ \\frac{2}{3} }\n",
    "                 \\delta^{ \\frac{2}{3} }\n",
    "$$"
   ]
  },
  {
   "cell_type": "code",
   "execution_count": null,
   "id": "15a2e013",
   "metadata": {
    "pycharm": {
     "name": "#%%\n"
    }
   },
   "outputs": [],
   "source": [
    "def calculate_delta_e_b(a_e, gamma, shear, poisson, delta, burger_vector):\n",
    "    \"\"\"\n",
    "    Calculated the energy barrier for flow\n",
    "    \"\"\"\n",
    "    misfit_part = delta ** (2 / 3)  # No units\n",
    "    elastic_part = (shear * (1 + poisson) / (1 - poisson)) ** (2 / 3)  # Pressure\n",
    "    delta_e = (\n",
    "        a_e\n",
    "        * (gamma / burger_vector ** 2) ** (1 / 3)\n",
    "        * burger_vector ** 3\n",
    "        * misfit_part\n",
    "        * elastic_part\n",
    "    )\n",
    "\n",
    "    return delta_e"
   ]
  },
  {
   "cell_type": "markdown",
   "id": "dfde33e1",
   "metadata": {
    "pycharm": {
     "name": "#%% md\n"
    }
   },
   "source": [
    "Lastly, the standard thermal activation theory expression\n",
    "\n",
    "$$\n",
    "  \\tau(T) =  \\tau_0 \\left(\n",
    "                    1 - \\left(\n",
    "                    \\dfrac{kT}{\\Delta E_b} \\ln{ \\frac{\\dot{\\epsilon_0}}{\\dot{\\epsilon}} }\n",
    "                    \\right)\n",
    "                    \\right)\n",
    "$$\n"
   ]
  },
  {
   "cell_type": "code",
   "execution_count": null,
   "id": "18c334bf",
   "metadata": {
    "pycharm": {
     "name": "#%%\n"
    }
   },
   "outputs": [],
   "source": [
    "def calculate_tau_yield(\n",
    "    tau_y_zero, temperature, delta_e_b, epsilon=5 * 10 ** -4, epsilon_zero=10 ** 4\n",
    "):\n",
    "    \"\"\"\n",
    "    Calculate yield shear stress for a given temperature\n",
    "    \"\"\"\n",
    "    return tau_y_zero * (\n",
    "        1.0\n",
    "        - ((kB * temperature / delta_e_b) * np.log(epsilon_zero / epsilon))\n",
    "        ** (2.0 / 3.0)\n",
    "    )"
   ]
  },
  {
   "cell_type": "code",
   "execution_count": null,
   "id": "34fbc306",
   "metadata": {
    "pycharm": {
     "name": "#%%\n"
    }
   },
   "outputs": [],
   "source": [
    "from pymatgen.core import FloatWithUnit\n",
    "\n",
    "a_tau = 0.049\n",
    "gamma = FloatWithUnit(70, unit=\"GPa*ang^2\").to(\"MPa*ang^2\")\n",
    "shear = FloatWithUnit(105, unit=\"GPa\").to(\"MPa\")\n",
    "poisson = 0.268\n",
    "burger_vector = FloatWithUnit(2.51, unit=\"ang^2\")\n",
    "# The predicted delta is still quite wrong at the moment\n",
    "delta = 0.02\n",
    "\n",
    "tau_yield_zero = calculate_tau_yield_zero(\n",
    "    a_tau, gamma, shear, poisson, burger_vector, delta\n",
    ")\n",
    "\n",
    "tau_yield_zero = FloatWithUnit(tau_yield_zero, unit=\"MPa\")\n",
    "\n",
    "a_e = 2.7\n",
    "\n",
    "delta_e_b = calculate_delta_e_b(a_e, gamma, shear, poisson, delta, burger_vector)\n",
    "\n",
    "delta_e_b = FloatWithUnit(delta_e_b, unit=\"MPa*ang^3\").to(\"J\")\n",
    "\n",
    "temperature = FloatWithUnit(300, unit=\"K\")\n",
    "\n",
    "tau_yield = calculate_tau_yield(\n",
    "    tau_yield_zero, temperature, delta_e_b, epsilon=5 * 10 ** -4, epsilon_zero=10 ** 4\n",
    ")\n",
    "\n",
    "tau_yield = FloatWithUnit(tau_yield, unit=\"MPa\")\n",
    "\n",
    "print(f\"Tau yield zero: {tau_yield_zero:.4f} [MPa]\")\n",
    "print(f\"Energy barrier: {delta_e_b.to('eV'):.4f} [eV]\")\n",
    "print(f\"Tau yield: {tau_yield:.4f} [MPa]\")"
   ]
  },
  {
   "cell_type": "markdown",
   "id": "76ca2363",
   "metadata": {},
   "source": [
    "#### 3.2 Task: Compare to experimental value strength of NiCoCr\n",
    "\n",
    "In order to be able to compare the theoretical results with experimental measurements, we provide you with poly-crystalline\n",
    "yield strength measurements. The yield strength has two main contributions in our fcc HEA: Grain boundary and solid\n",
    "solution strengthening. You will first have to subtract the grain boundary contribution. For that reason you can also\n",
    "find aggregated literature data of yield strength; the so called Hall-Petch plot. The yield strength $\\sigma$ is\n",
    "plotted with respect to the inverse square-root\n",
    "of grain size in NiCoCr (Hall–Petch scaling). The grain boundary strengthening contribution follows then\n",
    "from the slop of the Hall-Petch plot at the given grain size of the sample. The grain size of the measured sample\n",
    "was $41$ $\\mu m$. A hint: don't forget about the Taylor orientation factor.\n",
    "\n",
    "Here is an illustrative example on how to extract the grain boudary strenghening for a given grain size from\n",
    "the Hall-Petch plot.\n",
    "\n",
    "```python\n",
    "grain_size = 100\n",
    "sigma_hall_petch = 537 * 100** ( -1/2)\n",
    "tau_hall_petch = sigma_hall_petch / 3.06\n",
    "```\n",
    "\n",
    "\n",
    "<div style=\"align: left; text-align:center;\">\n",
    "    <img src=\"./images/yield_stress.png\" width=\"500px\" />\n",
    "    <div class=\"caption\">Temperature dependence of the yield stress of the\n",
    "equiatomic alloys and pure Ni</div>\n",
    "</div>\n",
    "\n",
    "\n",
    "<div style=\"align: left; text-align:center;\">\n",
    "    <img src=\"./images/hall_petch.png\" width=\"500px\" />\n",
    "    <div class=\"caption\">Aggregated literature data on yield strength versus inverse square-root of grain size in NiCoCr (Hall–Petch scaling)</div>\n",
    "</div>\n",
    "\n"
   ]
  },
  {
   "cell_type": "code",
   "execution_count": null,
   "id": "9e254d4a",
   "metadata": {
    "pycharm": {
     "name": "#%%\n"
    }
   },
   "outputs": [],
   "source": [
    "grain_size = 41\n",
    "\n",
    "tau_hall_petch = 537 * grain_size ** (-1 / 2) / 3.06\n",
    "\n",
    "print(f\"Hall-Petch: {tau_hall_petch:.2f} [MPa]\")\n",
    "\n",
    "sigma_poly_crytalline = 315\n",
    "\n",
    "tau_experimental = sigma_poly_crytalline / 3.06 - tau_hall_petch\n",
    "\n",
    "print(f\"Experimental tau: {tau_experimental:.2f} [MPa]\")\n",
    "print(f\"Theoretical tau: {tau_yield:.2f} [MPa]\")"
   ]
  },
  {
   "cell_type": "markdown",
   "id": "f32a9b9b",
   "metadata": {
    "pycharm": {
     "name": "#%% md\n"
    }
   },
   "source": [
    "## Discussion and Outlook\n",
    "\n",
    "Due to the limited resource and time we were now not able to show to full capabilities of our workflow. Production\n",
    "level calculations show much better agreement with experiment. For the case of NiCoCr we were able to predict the\n",
    "strength over a large temperature range based on the here presented workflow.\n",
    "\n",
    "<div style=\"align: left; text-align:center;\">\n",
    "    <img src=\"./images/nicocr_temp_euromat.png\" width=\"900px\" />\n",
    "    <div class=\"caption\">Overview of production results of production level calculations</div>\n",
    "</div>"
   ]
  },
  {
   "cell_type": "code",
   "execution_count": null,
   "id": "c3a46f9a-05ae-4cfe-8347-c2c175a953a3",
   "metadata": {},
   "outputs": [],
   "source": []
  }
 ],
 "metadata": {
  "kernelspec": {
   "display_name": "Python 3 (ipykernel)",
   "language": "python",
   "name": "python3"
  },
  "language_info": {
   "codemirror_mode": {
    "name": "ipython",
    "version": 3
   },
   "file_extension": ".py",
   "mimetype": "text/x-python",
   "name": "python",
   "nbconvert_exporter": "python",
   "pygments_lexer": "ipython3",
   "version": "3.8.10"
  },
  "pycharm": {
   "stem_cell": {
    "cell_type": "raw",
    "metadata": {
     "collapsed": false
    },
    "source": [
     "\n"
    ]
   }
  }
 },
 "nbformat": 4,
 "nbformat_minor": 5
}
